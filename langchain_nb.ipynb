{
 "cells": [
  {
   "cell_type": "markdown",
   "metadata": {},
   "source": [
    "Instalamos las librerias"
   ]
  },
  {
   "cell_type": "code",
   "execution_count": null,
   "metadata": {},
   "outputs": [],
   "source": [
    "!pip install google-generativeai langchain-google-genai pandas sentence-transformers chromadb"
   ]
  },
  {
   "cell_type": "markdown",
   "metadata": {},
   "source": [
    "# Llamada a la api de gemini directo"
   ]
  },
  {
   "cell_type": "code",
   "execution_count": null,
   "metadata": {},
   "outputs": [
    {
     "name": "stderr",
     "output_type": "stream",
     "text": [
      "c:\\Users\\Pedro\\Desktop\\proyectos_25\\introllm\\venv\\lib\\site-packages\\tqdm\\auto.py:21: TqdmWarning: IProgress not found. Please update jupyter and ipywidgets. See https://ipywidgets.readthedocs.io/en/stable/user_install.html\n",
      "  from .autonotebook import tqdm as notebook_tqdm\n"
     ]
    },
    {
     "name": "stdout",
     "output_type": "stream",
     "text": [
      "Un modelo de lenguaje es un programa que predice texto. Se usa para chatbots, traducción, generación de contenido y análisis de sentimientos.\n",
      "\n"
     ]
    }
   ],
   "source": [
    "import google.generativeai as genai\n",
    "\n",
    "# Configura tu clave de API\n",
    "genai.configure(api_key=\"APIKEY\")\n",
    "\n",
    "# 🔹 Seleccionamos el modelo de Gemini 2.0 Flash\n",
    "model = genai.GenerativeModel('gemini-2.0-flash')\n",
    "\n",
    "# 🔹 Configuración del modelo\n",
    "config = {\n",
    "    \"temperature\": 0.7,  # Controla la creatividad (0 = respuestas predecibles, 1 = más aleatorio)\n",
    "    \"top_p\": 0.8,        # Controla la diversidad de las respuestas\n",
    "    \"max_output_tokens\": 500  # Máximo de tokens en la respuesta\n",
    "}\n",
    "\n",
    "# 🔹 Ejemplo de consulta\n",
    "prompt = \"Explica en 20 palabras qué es un modelo de lenguaje y cómo se usa en la industria.\"\n",
    "\n",
    "# 🔹 Generamos la respuesta\n",
    "response = model.generate_content(prompt, generation_config=config)\n",
    "\n",
    "# 🔹 Mostramos la respuesta generada por Gemini\n",
    "print(response.text)"
   ]
  },
  {
   "cell_type": "markdown",
   "metadata": {},
   "source": [
    "# Promts estructurados para el etiquetado de datos."
   ]
  },
  {
   "cell_type": "markdown",
   "metadata": {},
   "source": [
    "Creamos la template para estructurar el prompt"
   ]
  },
  {
   "cell_type": "code",
   "execution_count": null,
   "metadata": {},
   "outputs": [],
   "source": [
    "from langchain_google_genai import ChatGoogleGenerativeAI\n",
    "from langchain.prompts import PromptTemplate\n",
    "from langchain.chains import LLMChain\n",
    "\n",
    "# Configurar el modelo Gemini con LangChain\n",
    "llm = ChatGoogleGenerativeAI(\n",
    "    model=\"gemini-2.0-flash\",  \n",
    "    temperature=0.2,  \n",
    "    max_output_tokens=500,  \n",
    "    google_api_key=\"nuestraapikey\"\n",
    ")\n",
    "\n",
    "# Definir el template del prompt\n",
    "prompt_template = PromptTemplate(\n",
    "    input_variables=[\"comentario\"],\n",
    "    template=(\n",
    "        \"Clasifica el siguiente comentario en una de las tres categorías: \\n\"\n",
    "        \"- Positivo (si es favorable al tráiler de Superman)\\n\"\n",
    "        \"- Negativo (si es una crítica o rechazo)\\n\"\n",
    "        \"- Neutral (si no expresa una postura clara)\\n\\n\"\n",
    "        \"Comentario: {comentario}\\n\\n\"\n",
    "        \"Devuelve solo la categoría exacta (Positivo, Negativo o Neutral).\"\n",
    "    )\n",
    ")\n",
    "\n",
    "# Definir la cadena de clasificación en LangChain\n",
    "etiquetado_chain = LLMChain(llm=llm, prompt=prompt_template)"
   ]
  },
  {
   "cell_type": "markdown",
   "metadata": {},
   "source": [
    "Cargamos los comentarios y extraemos una muestra aleatoria de 100 textos."
   ]
  },
  {
   "cell_type": "code",
   "execution_count": null,
   "metadata": {},
   "outputs": [],
   "source": [
    "import pandas as pd\n",
    "\n",
    "# Cargar archivo CSV con los comentarios\n",
    "df = pd.read_csv(r\"comentarios.csv\")\n",
    "\n",
    "# Seleccionar la columna de comentarios\n",
    "columna_comentarios = \"textDisplay\"\n",
    "\n",
    "# Extraer una muestra de 100 comentarios aleatorios\n",
    "muestra_prueba = df.sample(100, random_state=42)[columna_comentarios].tolist()\n"
   ]
  },
  {
   "cell_type": "markdown",
   "metadata": {},
   "source": [
    "Corremos el etiquetador."
   ]
  },
  {
   "cell_type": "code",
   "execution_count": null,
   "metadata": {},
   "outputs": [],
   "source": [
    "import time\n",
    "from langchain.chains import LLMChain\n",
    "\n",
    "# Aplicar clasificación con la cadena de LangChain\n",
    "resultados_prueba = []\n",
    "\n",
    "for comentario in muestra_prueba:\n",
    "    categoria = etiquetado_chain.invoke({\"comentario\": comentario})\n",
    "    resultados_prueba.append({\"Comentario\": comentario, \"Categoría\": categoria[\"text\"]})\n",
    "    time.sleep(1.5)  # Evitar saturación de la API\n",
    "\n",
    "# Convertir resultados a DataFrame y guardarlos\n",
    "df_resultados_prueba = pd.DataFrame(resultados_prueba)\n",
    "df_resultados_prueba.to_csv(\"resultados_etiquetados.csv\", index=False)\n",
    "\n",
    "print(df_resultados_prueba)\n"
   ]
  },
  {
   "cell_type": "markdown",
   "metadata": {},
   "source": [
    "Para finalizar, vamos a visualizar frecuencias relaticas"
   ]
  },
  {
   "cell_type": "code",
   "execution_count": null,
   "metadata": {},
   "outputs": [
    {
     "data": {
      "text/html": [
       "<div>\n",
       "<style scoped>\n",
       "    .dataframe tbody tr th:only-of-type {\n",
       "        vertical-align: middle;\n",
       "    }\n",
       "\n",
       "    .dataframe tbody tr th {\n",
       "        vertical-align: top;\n",
       "    }\n",
       "\n",
       "    .dataframe thead th {\n",
       "        text-align: right;\n",
       "    }\n",
       "</style>\n",
       "<table border=\"1\" class=\"dataframe\">\n",
       "  <thead>\n",
       "    <tr style=\"text-align: right;\">\n",
       "      <th></th>\n",
       "      <th>Comentario</th>\n",
       "      <th>Categoría</th>\n",
       "    </tr>\n",
       "  </thead>\n",
       "  <tbody>\n",
       "    <tr>\n",
       "      <th>0</th>\n",
       "      <td>Ahora a Superman lo salva un perro. ¿Qué chorr...</td>\n",
       "      <td>Negativo</td>\n",
       "    </tr>\n",
       "    <tr>\n",
       "      <th>1</th>\n",
       "      <td>Una ola de lagrimas de Snyder retards se acerca 😂</td>\n",
       "      <td>Negativo</td>\n",
       "    </tr>\n",
       "    <tr>\n",
       "      <th>2</th>\n",
       "      <td>En serio, puedes seguir hateando, pero la gran...</td>\n",
       "      <td>Positivo</td>\n",
       "    </tr>\n",
       "    <tr>\n",
       "      <th>3</th>\n",
       "      <td>Ok snydertard</td>\n",
       "      <td>Negativo</td>\n",
       "    </tr>\n",
       "    <tr>\n",
       "      <th>4</th>\n",
       "      <td>😢❤❤❤❤</td>\n",
       "      <td>Positivo</td>\n",
       "    </tr>\n",
       "  </tbody>\n",
       "</table>\n",
       "</div>"
      ],
      "text/plain": [
       "                                          Comentario Categoría\n",
       "0  Ahora a Superman lo salva un perro. ¿Qué chorr...  Negativo\n",
       "1  Una ola de lagrimas de Snyder retards se acerca 😂  Negativo\n",
       "2  En serio, puedes seguir hateando, pero la gran...  Positivo\n",
       "3                                      Ok snydertard  Negativo\n",
       "4                                              😢❤❤❤❤  Positivo"
      ]
     },
     "execution_count": 1,
     "metadata": {},
     "output_type": "execute_result"
    }
   ],
   "source": [
    "# Cargamos el archivo\n",
    "file_path = \"resultados_etiquetados.csv\"\n",
    "df = pd.read_csv(file_path)\n",
    "\n",
    "# Mostrar las primeras filas para entender la estructura de los datos\n",
    "df.head()\n"
   ]
  },
  {
   "cell_type": "code",
   "execution_count": 4,
   "metadata": {},
   "outputs": [],
   "source": [
    "# Calcular las frecuencias relativas de cada categoría\n",
    "frecuencias_relativas = df['Categoría'].value_counts(normalize=True) * 100\n",
    "\n",
    "# Convertir a DataFrame para visualización\n",
    "frecuencias_df = frecuencias_relativas.reset_index()\n",
    "frecuencias_df.columns = ['Categoría', 'Frecuencia Relativa (%)']"
   ]
  },
  {
   "cell_type": "code",
   "execution_count": 5,
   "metadata": {},
   "outputs": [
    {
     "data": {
      "image/png": "[encoded data removed]",
      "text/plain": [
       "<Figure size 800x600 with 1 Axes>"
      ]
     },
     "metadata": {},
     "output_type": "display_data"
    }
   ],
   "source": [
    "import matplotlib.pyplot as plt\n",
    "\n",
    "# Crear la visualización elegante de las frecuencias relativas\n",
    "plt.figure(figsize=(8, 6))\n",
    "plt.bar(frecuencias_df['Categoría'], frecuencias_df['Frecuencia Relativa (%)'])\n",
    "\n",
    "# Personalización del gráfico\n",
    "plt.xlabel(\"Categoría\")\n",
    "plt.ylabel(\"Frecuencia Relativa (%)\")\n",
    "plt.title(\"Distribución de Frecuencias Relativas por Categoría\")\n",
    "plt.ylim(0, 100)\n",
    "plt.grid(axis='y', linestyle='--', alpha=0.7)\n",
    "\n",
    "# Mostrar el gráfico\n",
    "plt.show()"
   ]
  }
 ],
 "metadata": {
  "kernelspec": {
   "display_name": "venv",
   "language": "python",
   "name": "python3"
  },
  "language_info": {
   "codemirror_mode": {
    "name": "ipython",
    "version": 3
   },
   "file_extension": ".py",
   "mimetype": "text/x-python",
   "name": "python",
   "nbconvert_exporter": "python",
   "pygments_lexer": "ipython3",
   "version": "3.10.11"
  }
 },
 "nbformat": 4,
 "nbformat_minor": 2
}
